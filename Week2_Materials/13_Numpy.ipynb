{
 "cells": [
  {
   "cell_type": "markdown",
   "metadata": {
    "slideshow": {
     "slide_type": "slide"
    }
   },
   "source": [
    "# Numpy"
   ]
  },
  {
   "cell_type": "markdown",
   "metadata": {
    "slideshow": {
     "slide_type": "fragment"
    }
   },
   "source": [
    "<div class=\"alert alert-success\">\n",
    "<a href=\"https://numpy.org/doc/stable/user/whatisnumpy.html\" class=\"alert-link\">Numpy</a> is a Python library for scientific computing in Python, that provides a multidimensional array object and tools to working with these arrays efficiently. NumPy gives you an enormous range of fast and efficient ways of creating arrays and manipulating numerical data inside them.\n",
    "</div>"
   ]
  },
  {
   "cell_type": "markdown",
   "metadata": {
    "slideshow": {
     "slide_type": "fragment"
    }
   },
   "source": [
    "Read the <a href=\"https://numpy.org/devdocs/user/absolute_beginners.html\">beginner's guide on Numpy</a> and more about its detailed <a href=\"https://numpy.org/doc/stable/reference/\">documentation</a>.\n"
   ]
  },
  {
   "cell_type": "markdown",
   "metadata": {
    "slideshow": {
     "slide_type": "slide"
    }
   },
   "source": [
    "1. Numpy vs list\n",
    "2. Creating Numpy arrays\n",
    "3. Shape\n",
    "    * array shape\n",
    "    * reshape\n",
    "    * transpose\n",
    "4. Indexing and slicing\n",
    "5. Basic Numpy array operations"
   ]
  },
  {
   "cell_type": "markdown",
   "metadata": {
    "slideshow": {
     "slide_type": "slide"
    }
   },
   "source": [
    "### 1. Numpy vs list\n",
    "* **Size** - Numpy data structures take up less space\n",
    "* **Performance** - faster than lists\n",
    "* **Functionality** - Numpy have optimized functions such as linear algebra operations built in.\n",
    "\n",
    "The elements in a NumPy array are all required to be of the same data type (homogeneous).  \n",
    "Numpy arrays have specific <a href=\"https://numpy.org/devdocs/user/basics.types.html\">numpy datatypes</a>.  \n",
    "Numpy has operations that typically require nested loops in a simple list e.g. element wise operation is not possible on the list."
   ]
  },
  {
   "cell_type": "code",
   "execution_count": 1,
   "metadata": {
    "slideshow": {
     "slide_type": "subslide"
    }
   },
   "outputs": [
    {
     "name": "stdout",
     "output_type": "stream",
     "text": [
      "[[1 2 3]\n",
      " [4 5 6]\n",
      " [7 8 9]]\n",
      "[[1, 2, 3], [4, 5, 6], [7, 8, 9]]\n",
      "[2.0, 3.0]\n",
      "[6. 7.]\n"
     ]
    }
   ],
   "source": [
    "import numpy as np\n",
    "\n",
    "my_list = [[1, 2 ,3], [4, 5, 6], [7, 8, 9]]\n",
    "my_array = np.array([[1, 2 ,3], [4, 5, 6], [7, 8, 9]])\n",
    "print(my_array)\n",
    "print(my_list)\n",
    "\n",
    "my_list[0][1] = 'a string'                       # list elements can be any type -- heterogeneous\n",
    "# my_array[0][1] = 'a string'                    # numpy array elements must be the same type -- homogeneous\n",
    "my_array2 = np.array([1, 2], dtype=np.float64)   # Specify a particular datatype\n",
    "my_array3 = my_array2.astype(np.int64)\n",
    "my_list2 = [float(i) for i in range(2)]          # Need list comprehension to type cast all elements\n",
    "# my_list2 += 2\n",
    "\n",
    "my_list2 = [num + 2 for num in my_list2]\n",
    "print(my_list2)\n",
    "my_array2 += 5\n",
    "print(my_array2)"
   ]
  },
  {
   "cell_type": "markdown",
   "metadata": {
    "slideshow": {
     "slide_type": "slide"
    }
   },
   "source": [
    "### 2. Creating Numpy arrays\n",
    "There are several different ways to create numpy arrays, to name a few:"
   ]
  },
  {
   "cell_type": "code",
   "execution_count": 2,
   "metadata": {
    "slideshow": {
     "slide_type": "subslide"
    }
   },
   "outputs": [
    {
     "name": "stdout",
     "output_type": "stream",
     "text": [
      "[  0.   12.5  25.   37.5  50.   62.5  75.   87.5 100. ]\n"
     ]
    }
   ],
   "source": [
    "# a = np.zeros((2,2))            # Create an array of all zeros with specified shape\n",
    "# print(a)\n",
    "# b = np.ones((1,2))             # Create an array of all ones with specified shape\n",
    "# print(b)\n",
    "# c = np.full((2,2), 7)          # Create an array filled with specified value(s)\n",
    "# print(c)\n",
    "# d = np.eye(2)                  # Create an identity matrix with specified shape\n",
    "# print(d)\n",
    "# e = np.random.random((2,2))    # Create an array filled with random values with specified shape\n",
    "# print(e)\n",
    "# f = np.empty((3,2))            # Create an array filled with random values depending on the state of your machine\n",
    "# print(f)\n",
    "# g = np.arange(2,12,2)          # Create a 1-D array from 0 to specified value (similar to Python's built-in range)\n",
    "# print(g)                       # Also follows (start, stop, step)\n",
    "# my_list = range(2, 20, 3)\n",
    "# h = np.array(my_list)          # Create a numpy array from a list\n",
    "# print(h)\n",
    "i = np.linspace(0, 100, num=9) # Create a array evenly spaced by specified intervals\n",
    "print(i)"
   ]
  },
  {
   "cell_type": "markdown",
   "metadata": {
    "slideshow": {
     "slide_type": "slide"
    }
   },
   "source": [
    "### 3. Shape\n",
    "You can use `array.ndim`, `array.size`, and `array.shape` to evaluate the shape of your numpy array.  \n",
    "You are also able to freely manipulate the shape of your array using `array.reshape(row, col)` and `array.T`.\n",
    "The shape of an array is a tuple of integers giving the size of the array along each dimension.  "
   ]
  },
  {
   "cell_type": "code",
   "execution_count": 3,
   "metadata": {
    "slideshow": {
     "slide_type": "subslide"
    }
   },
   "outputs": [
    {
     "name": "stdout",
     "output_type": "stream",
     "text": [
      "[[[0 1]\n",
      "  [2 3]]\n",
      "\n",
      " [[4 5]\n",
      "  [6 7]]]\n",
      "rows and columns and channels of array =  (2, 2, 2)\n",
      "[[0 1]\n",
      " [2 3]\n",
      " [4 5]\n",
      " [6 7]]\n",
      "rows and columns and channels of array =  (4, 2)\n",
      "[[0 2 4 6]\n",
      " [1 3 5 7]]\n",
      "[[0 1]\n",
      " [2 3]\n",
      " [4 5]\n",
      " [6 7]]\n",
      "2\n",
      "8\n"
     ]
    }
   ],
   "source": [
    "array = np.arange(8).reshape(2, 2, 2)\n",
    "print(array)\n",
    "print('rows and columns and channels of array = ', array.shape)\n",
    "array = np.reshape(array, (-1, 2))\n",
    "print(array)\n",
    "print('rows and columns and channels of array = ', array.shape)\n",
    "array = array.T\n",
    "print(array)\n",
    "array = np.transpose(array)\n",
    "print(array)\n",
    "print(array.ndim)\n",
    "print(array.size)"
   ]
  },
  {
   "cell_type": "markdown",
   "metadata": {
    "slideshow": {
     "slide_type": "slide"
    }
   },
   "source": [
    "### 4. Indexing and slicing\n",
    "A new possible syntax for indexing. `[row][col] & [row,col]`  \n",
    "Slicing still follows `start:stop:step`"
   ]
  },
  {
   "cell_type": "code",
   "execution_count": 4,
   "metadata": {
    "slideshow": {
     "slide_type": "subslide"
    }
   },
   "outputs": [
    {
     "name": "stdout",
     "output_type": "stream",
     "text": [
      "[[1, 1, 2], [5, 4, 3]]\n",
      "4\n",
      "4\n",
      "[[1 2]\n",
      " [5 3]]\n"
     ]
    }
   ],
   "source": [
    "my_list = [[1,1,2], [5,4,3]]\n",
    "print(my_list)\n",
    "# print(my_list[1,1])\n",
    "my_array = np.array(my_list)\n",
    "print(my_array[1][1])\n",
    "print(my_array[1,1])\n",
    "sub_array = my_array[:,::2]\n",
    "print(sub_array)"
   ]
  },
  {
   "cell_type": "markdown",
   "metadata": {
    "slideshow": {
     "slide_type": "subslide"
    }
   },
   "source": [
    "What will the following sliced array print?"
   ]
  },
  {
   "cell_type": "code",
   "execution_count": 5,
   "metadata": {
    "slideshow": {
     "slide_type": "fragment"
    }
   },
   "outputs": [
    {
     "name": "stdout",
     "output_type": "stream",
     "text": [
      "[[ 0  1  2  3]\n",
      " [ 4  5  6  7]\n",
      " [ 8  9 10 11]\n",
      " [12 13 14 15]\n",
      " [16 17 18 19]\n",
      " [20 21 22 23]]\n",
      "[[ 4]\n",
      " [12]\n",
      " [20]]\n"
     ]
    }
   ],
   "source": [
    "array = np.arange(24).reshape((6,4))\n",
    "print(array)\n",
    "sliced_array = array[1::2, :-2:3]\n",
    "print(sliced_array)"
   ]
  },
  {
   "cell_type": "markdown",
   "metadata": {
    "slideshow": {
     "slide_type": "subslide"
    }
   },
   "source": [
    "A)\n",
    "```python\n",
    "[[ 0]\n",
    " [ 5]\n",
    " [10]\n",
    " [15]]\n",
    "```\n",
    "B)  \n",
    "```python\n",
    "[[ 4]\n",
    " [12]\n",
    " [20]]\n",
    "```\n",
    "C)  \n",
    "```python\n",
    "[[ 5  7\n",
    " [13 15]]\n",
    " ```\n",
    "D)  \n",
    "```python\n",
    "[[12 13 14 15]]\n",
    "```"
   ]
  },
  {
   "cell_type": "markdown",
   "metadata": {
    "slideshow": {
     "slide_type": "slide"
    }
   },
   "source": [
    "### 5. Basic Numpy array operations\n",
    "Numpy allows for easier <a href=\"https://numpy.org/doc/stable/reference/routines.math.html\" class=\"alert-link\">mathematical operations</a>.\n",
    "Some operations are overloaded as both operators and functions. Say x and y are both numpy arrays, we can perform the following:\n",
    "```python\n",
    "x + y == np.add(x, y)\n",
    "x - y == np.subtract(x, y)\n",
    "x / y == np.divide(x, y)\n",
    "x * y == np.multiply(x, y)\n",
    "x.dot(y) == np.dot(x, y)\n",
    "np.sqrt(x)\n",
    "np.square(x)\n",
    "```\n",
    "Numpy broadcasting lets us to perform operations on arrays of different sizes. Read more on <a href=\"https://numpy.org/doc/stable/user/basics.broadcasting.html\">broadcasting documentation</a>.  \n",
    "A lot of these operations have the option to specify the axis, read more about <a href=\"https://www.sharpsightlabs.com/blog/numpy-axes-explained/#:~:text=In%20any%20Python%20sequence%20%E2%80%93%20like,1%2C%E2%80%9D%20and%20so%20on.\">Numpy axes</a>."
   ]
  },
  {
   "cell_type": "markdown",
   "metadata": {
    "slideshow": {
     "slide_type": "slide"
    }
   },
   "source": [
    "<center><img src=\"../media/dot_product.png\" width=\"500px\"></center>"
   ]
  },
  {
   "cell_type": "code",
   "execution_count": 6,
   "metadata": {
    "slideshow": {
     "slide_type": "subslide"
    }
   },
   "outputs": [
    {
     "name": "stdout",
     "output_type": "stream",
     "text": [
      "[[1, 2], [3, 4]]\n",
      "[[4, 3], [2, 1]]\n",
      "[[1, 2], [3, 4], [4, 3], [2, 1]]\n"
     ]
    }
   ],
   "source": [
    "my_list = [[1,2],[3,4]]\n",
    "print(my_list)\n",
    "my_list2 = [[4,3],[2,1]]\n",
    "print(my_list2)\n",
    "print(my_list+my_list2)"
   ]
  },
  {
   "cell_type": "code",
   "execution_count": 7,
   "metadata": {
    "slideshow": {
     "slide_type": "subslide"
    }
   },
   "outputs": [
    {
     "name": "stdout",
     "output_type": "stream",
     "text": [
      "[[1 2]\n",
      " [3 4]]\n",
      "[[4 3]\n",
      " [2 1]]\n",
      "[[5 5]\n",
      " [5 5]]\n"
     ]
    }
   ],
   "source": [
    "my_array = np.array(my_list)\n",
    "print(my_array)\n",
    "my_array2 = np.array(my_list2)\n",
    "print(my_array2)\n",
    "print(my_array + my_array2) # supports broadcasting"
   ]
  },
  {
   "cell_type": "code",
   "execution_count": 8,
   "metadata": {
    "slideshow": {
     "slide_type": "subslide"
    }
   },
   "outputs": [
    {
     "name": "stdout",
     "output_type": "stream",
     "text": [
      "[[4 6]\n",
      " [6 4]]\n",
      "[[4 6]\n",
      " [6 4]]\n",
      "[[13 20]\n",
      " [ 5  8]]\n",
      "[[ 8  5]\n",
      " [20 13]]\n",
      "[[ 8  5]\n",
      " [20 13]]\n"
     ]
    }
   ],
   "source": [
    "# print(my_list * my_list2)             # cannot operate on list\n",
    "print(my_array * my_array2)             # easily perform element-wise product\n",
    "print(np.multiply(my_array, my_array2)) # overloaded function to do the same thing\n",
    "print(my_array2.dot(my_array))          # use this for matrix multiplication\n",
    "print(np.dot(my_array, my_array2))      # another overloaded function\n",
    "print(my_array.dot(my_array2))          # order matters for dot product!"
   ]
  },
  {
   "cell_type": "markdown",
   "metadata": {
    "slideshow": {
     "slide_type": "slide"
    }
   },
   "source": [
    "<a href=\"https://numpy.org/doc/stable/reference/generated/numpy.sum.html\">sum</a>  \n",
    "`numpy.sum()` adds up all the values in your array or in a specified direction of your array."
   ]
  },
  {
   "cell_type": "code",
   "execution_count": 9,
   "metadata": {
    "slideshow": {
     "slide_type": "subslide"
    }
   },
   "outputs": [
    {
     "name": "stdout",
     "output_type": "stream",
     "text": [
      "[[4 1]\n",
      " [3 2]]\n",
      "10\n",
      "[7 3]\n",
      "[5 5]\n"
     ]
    }
   ],
   "source": [
    "my_array = np.array([[4,1],[3,2]])\n",
    "print(my_array)\n",
    "\n",
    "print(np.sum(my_array))\n",
    "print(np.sum(my_array, axis=0))\n",
    "print(np.sum(my_array, axis=1))"
   ]
  },
  {
   "cell_type": "markdown",
   "metadata": {
    "slideshow": {
     "slide_type": "slide"
    }
   },
   "source": [
    "<a href = \"https://numpy.org/doc/stable/reference/generated/numpy.sort.html\">sort</a>  \n",
    "`numpy.sort()` sorts all values in your array or in a specified direction of your array."
   ]
  },
  {
   "cell_type": "code",
   "execution_count": 10,
   "metadata": {
    "slideshow": {
     "slide_type": "subslide"
    }
   },
   "outputs": [
    {
     "name": "stdout",
     "output_type": "stream",
     "text": [
      "[[4 1]\n",
      " [3 2]]\n",
      "[[1 4]\n",
      " [2 3]]\n",
      "[1 2 3 4]\n",
      "[[3 1]\n",
      " [4 2]]\n",
      "[[1 4]\n",
      " [2 3]]\n"
     ]
    }
   ],
   "source": [
    "my_array = np.array([[4,1],[3,2]])\n",
    "print(my_array)\n",
    "\n",
    "print(np.sort(my_array))               # sort along the last axis\n",
    "print(np.sort(my_array, axis=None))    # sort the flattened array\n",
    "print(np.sort(my_array, axis=0))       # sort along the first axis\n",
    "print(np.sort(my_array, axis=1))       # sort along the second axis"
   ]
  },
  {
   "cell_type": "markdown",
   "metadata": {
    "slideshow": {
     "slide_type": "slide"
    }
   },
   "source": [
    "<a href = \"https://numpy.org/doc/stable/reference/generated/numpy.unique.html\">unique</a>  \n",
    "`numpy.unique()` finds the unique values in your array and return them in a sorted array"
   ]
  },
  {
   "cell_type": "code",
   "execution_count": 11,
   "metadata": {
    "slideshow": {
     "slide_type": "subslide"
    }
   },
   "outputs": [
    {
     "name": "stdout",
     "output_type": "stream",
     "text": [
      "[[0 1 0 2]\n",
      " [2 1 2 2]\n",
      " [0 1 2 3]]\n",
      "[0 1 2 3]\n",
      "[[0 1 0 2]\n",
      " [0 1 2 3]\n",
      " [2 1 2 2]]\n",
      "[0 1 2 3] [ 0  1  3 11]\n"
     ]
    }
   ],
   "source": [
    "my_array = np.array([[0,1,0,2],[2,1,2,2],[0,1,2,3]])\n",
    "print(my_array)\n",
    "\n",
    "print(np.unique(my_array))\n",
    "print(np.unique(my_array, axis=0))                 # returns the unique rows of the array\n",
    "arr, ind = np.unique(my_array, return_index=True)  # returns unique values and the first index of the unique value\n",
    "print(arr, ind)"
   ]
  },
  {
   "cell_type": "markdown",
   "metadata": {
    "slideshow": {
     "slide_type": "slide"
    }
   },
   "source": [
    "<a href = \"https://numpy.org/doc/stable/reference/generated/numpy.amax.html\">amax</a> & <a href = \"https://numpy.org/doc/stable/reference/generated/numpy.amin.html\">amin</a>  \n",
    "<a href = \"https://numpy.org/doc/stable/reference/generated/numpy.argmax.html\">argmax</a> & <a href = \"https://numpy.org/doc/stable/reference/generated/numpy.argmin.html\">argmin</a>  \n",
    "`numpy.amax()` and `numpy.amin()` find the first max and min value in your array.  \n",
    "`numpy.argmax()` and `numpy.argmin()` find the index of the first max and min value in your array.  "
   ]
  },
  {
   "cell_type": "code",
   "execution_count": 12,
   "metadata": {
    "slideshow": {
     "slide_type": "subslide"
    }
   },
   "outputs": [
    {
     "name": "stdout",
     "output_type": "stream",
     "text": [
      "[[4 2 3]\n",
      " [1 3 1]]\n",
      "4\n",
      "[4 3 3]\n",
      "[4 3]\n",
      "3\n",
      "[1 0 1]\n",
      "[1 0]\n"
     ]
    }
   ],
   "source": [
    "my_array = np.array([[4, 2, 3],[1, 3, 1]])\n",
    "print(my_array)\n",
    "\n",
    "print(np.amax(my_array))             # Maximum of the flattened array\n",
    "print(np.amax(my_array, axis=0))     # Maxima along the first axis\n",
    "print(np.amax(my_array, axis=1))     # Maxima along the second axis\n",
    "\n",
    "print(np.argmin(my_array))           # Index of the minimum of the flattened array\n",
    "print(np.argmin(my_array, axis=0))   # Index of the minima along the first axis\n",
    "print(np.argmin(my_array, axis=1))   # Index of the minima along the second axis"
   ]
  },
  {
   "cell_type": "markdown",
   "metadata": {
    "slideshow": {
     "slide_type": "slide"
    }
   },
   "source": [
    "<a href = \"https://numpy.org/doc/stable/reference/generated/numpy.ndarray.flatten.html\">flatten</a> & <a href =\"https://numpy.org/doc/stable/reference/generated/numpy.ravel.html#numpy.ravel\">ravel</a>  \n",
    "`numpy.ndarray.flatten` returns a copy of the array flattened into a 1D array.  \n",
    "`numpy.ravel` returns a contiguous flattened 1D array.  \n",
    "The difference is that `flatten` **makes a copy** of the original array, so modifying flattened array doesn't change the original array."
   ]
  },
  {
   "cell_type": "code",
   "execution_count": 13,
   "metadata": {
    "slideshow": {
     "slide_type": "subslide"
    }
   },
   "outputs": [
    {
     "name": "stdout",
     "output_type": "stream",
     "text": [
      "[[4 2 3]\n",
      " [1 3 1]]\n",
      "[4 2 3 1 3 1]\n",
      "[4 2 3 1 3 1]\n",
      "[0 2 3 1 3 1]\n",
      "[[4 2 3]\n",
      " [1 3 1]]\n",
      "[0 2 3 1 3 1]\n",
      "[[0 2 3]\n",
      " [1 3 1]]\n"
     ]
    }
   ],
   "source": [
    "my_array = np.array([[4, 2, 3],[1, 3, 1]])\n",
    "print(my_array)\n",
    "\n",
    "a = my_array.flatten()\n",
    "b = np.ravel(my_array)\n",
    "print(a)               # prints a 1D flattened array\n",
    "print(b)               # prints a 1D flattened array\n",
    "\n",
    "a[0] = 0\n",
    "print(a)               # flattened array is modified\n",
    "print(my_array)        # original array is not modified\n",
    "\n",
    "b[0] = 0\n",
    "print(b)               # flattened array is modified\n",
    "print(my_array)        # original array is also modified"
   ]
  }
 ],
 "metadata": {
  "celltoolbar": "Slideshow",
  "kernelspec": {
   "display_name": "Python 3",
   "language": "python",
   "name": "python3"
  },
  "language_info": {
   "codemirror_mode": {
    "name": "ipython",
    "version": 3
   },
   "file_extension": ".py",
   "mimetype": "text/x-python",
   "name": "python",
   "nbconvert_exporter": "python",
   "pygments_lexer": "ipython3",
   "version": "3.7.2"
  }
 },
 "nbformat": 4,
 "nbformat_minor": 2
}

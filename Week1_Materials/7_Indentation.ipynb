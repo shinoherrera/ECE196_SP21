{
 "cells": [
  {
   "cell_type": "markdown",
   "metadata": {
    "slideshow": {
     "slide_type": "slide"
    }
   },
   "source": [
    "# Indentation  \n",
    "C\n",
    "```C\n",
    "x = 5;\n",
    "if (x % 2) != 0 {\n",
    "    print(\"condition met\");\n",
    "}\n",
    "```\n",
    "Python\n",
    "```python\n",
    "x = 5\n",
    "if (x % 2) != 0:\n",
    "    print(\"condition met\")\n",
    "```"
   ]
  },
  {
   "cell_type": "code",
   "execution_count": 19,
   "metadata": {
    "slideshow": {
     "slide_type": "subslide"
    }
   },
   "outputs": [
    {
     "name": "stdout",
     "output_type": "stream",
     "text": [
      "it's not that crowded\n"
     ]
    }
   ],
   "source": [
    "people = 50\n",
    "maximum_cap = 120\n",
    "if people < maximum_cap:\n",
    "    print(\"it's not that crowded\")\n",
    "    \n",
    "else:\n",
    "    print(\"too crowded!\")"
   ]
  }
 ],
 "metadata": {
  "celltoolbar": "Slideshow",
  "kernelspec": {
   "display_name": "Python 3",
   "language": "python",
   "name": "python3"
  },
  "language_info": {
   "codemirror_mode": {
    "name": "ipython",
    "version": 3
   },
   "file_extension": ".py",
   "mimetype": "text/x-python",
   "name": "python",
   "nbconvert_exporter": "python",
   "pygments_lexer": "ipython3",
   "version": "3.7.2"
  }
 },
 "nbformat": 4,
 "nbformat_minor": 2
}

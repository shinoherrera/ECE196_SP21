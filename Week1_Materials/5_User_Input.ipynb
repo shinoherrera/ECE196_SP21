{
 "cells": [
  {
   "cell_type": "markdown",
   "metadata": {
    "slideshow": {
     "slide_type": "slide"
    }
   },
   "source": [
    "# User Input\n",
    "To capture input from the user, use the **input** command."
   ]
  },
  {
   "cell_type": "code",
   "execution_count": 2,
   "metadata": {
    "slideshow": {
     "slide_type": "fragment"
    }
   },
   "outputs": [
    {
     "name": "stdout",
     "output_type": "stream",
     "text": [
      "Enter a number: five\n",
      "ValueError: Input must be a number\n"
     ]
    }
   ],
   "source": [
    "try:\n",
    "    value = int(input(\"Enter a number: \"))\n",
    "    value += 5\n",
    "    print(\"New value = \", value)\n",
    "    print(\"New value = {}\".format(value))\n",
    "except ValueError:\n",
    "    print(\"ValueError: Input must be a number\")"
   ]
  }
 ],
 "metadata": {
  "celltoolbar": "Slideshow",
  "kernelspec": {
   "display_name": "Python 3",
   "language": "python",
   "name": "python3"
  },
  "language_info": {
   "codemirror_mode": {
    "name": "ipython",
    "version": 3
   },
   "file_extension": ".py",
   "mimetype": "text/x-python",
   "name": "python",
   "nbconvert_exporter": "python",
   "pygments_lexer": "ipython3",
   "version": "3.7.2"
  }
 },
 "nbformat": 4,
 "nbformat_minor": 2
}

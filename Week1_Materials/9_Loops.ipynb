{
 "cells": [
  {
   "cell_type": "markdown",
   "metadata": {
    "slideshow": {
     "slide_type": "slide"
    }
   },
   "source": [
    "# Loops\n",
    "\n",
    "* for\n",
    "* while\n",
    "* range\n",
    "* continue and break"
   ]
  },
  {
   "cell_type": "markdown",
   "metadata": {
    "slideshow": {
     "slide_type": "slide"
    }
   },
   "source": [
    "## for loops\n",
    "**for** *var* in *sequence*:\n",
    "\n",
    "    code goes here"
   ]
  },
  {
   "cell_type": "code",
   "execution_count": 1,
   "metadata": {
    "slideshow": {
     "slide_type": "subslide"
    }
   },
   "outputs": [
    {
     "name": "stdout",
     "output_type": "stream",
     "text": [
      "1\n",
      "2\n",
      "3\n",
      "3\n",
      "3\n"
     ]
    }
   ],
   "source": [
    "my_grocery_list = ['apples', 'bananas', 'milk', 5, 2.5] # initialized using brackets\n",
    "counter = 0\n",
    "for grocery in my_grocery_list:\n",
    "    if type(grocery) is str:\n",
    "        counter += 1\n",
    "    print(counter)"
   ]
  },
  {
   "cell_type": "markdown",
   "metadata": {
    "slideshow": {
     "slide_type": "slide"
    }
   },
   "source": [
    "What will the code print?\n",
    "```python\n",
    "guesses = {'Matt' : [2, 8], \n",
    "           'Jason'  : [12, 18],\n",
    "           'Lee' : [7, 11]}\n",
    "answer = 10\n",
    "\n",
    "for item in guesses:\n",
    "    temp = guesses[item]\n",
    "    if temp[0] <= answer <= temp[1]:\n",
    "        winner = item    \n",
    "print(winner)\n",
    "```"
   ]
  },
  {
   "cell_type": "markdown",
   "metadata": {
    "slideshow": {
     "slide_type": "fragment"
    }
   },
   "source": [
    "* A) Matt\n",
    "* B) [7, 11] \n",
    "* C) Jason\n",
    "* D) Lee\n",
    "* E) Matt, Jason"
   ]
  },
  {
   "cell_type": "code",
   "execution_count": 2,
   "metadata": {
    "slideshow": {
     "slide_type": "slide"
    }
   },
   "outputs": [
    {
     "name": "stdout",
     "output_type": "stream",
     "text": [
      "Lee\n"
     ]
    }
   ],
   "source": [
    "guesses = {'Matt' : [2, 8], \n",
    "           'Jason'  : [12, 18],\n",
    "           'Lee' : [7, 11]}\n",
    "answer = 10\n",
    "\n",
    "for item in guesses:\n",
    "    temp = guesses[item]\n",
    "    if temp[0] <= answer <= temp[1]:\n",
    "        winner = item\n",
    "        \n",
    "print(winner)"
   ]
  },
  {
   "cell_type": "markdown",
   "metadata": {
    "slideshow": {
     "slide_type": "slide"
    }
   },
   "source": [
    "## while loops\n",
    "**while** stopping_condition:\n",
    "    \n",
    "    code goes here\n",
    "    \n",
    "**Python does not support do-while loops**"
   ]
  },
  {
   "cell_type": "code",
   "execution_count": 3,
   "metadata": {
    "slideshow": {
     "slide_type": "subslide"
    }
   },
   "outputs": [
    {
     "name": "stdout",
     "output_type": "stream",
     "text": [
      "i =  10\n",
      "i =  9\n",
      "i =  8\n",
      "i =  7\n",
      "i =  6\n",
      "i =  5\n",
      "i =  4\n",
      "i =  3\n",
      "i =  2\n",
      "i =  1\n",
      "i =  0\n"
     ]
    }
   ],
   "source": [
    "i = 10\n",
    "while i >= 0:\n",
    "    print('i = ', i)\n",
    "    i -= 1"
   ]
  },
  {
   "cell_type": "markdown",
   "metadata": {
    "slideshow": {
     "slide_type": "slide"
    }
   },
   "source": [
    "## Range\n",
    "<div class=\"alert alert-success\">\n",
    "<code>range</code> is an operator to create a range of numbers, that is often used with loops.\n",
    "</div>"
   ]
  },
  {
   "cell_type": "markdown",
   "metadata": {
    "slideshow": {
     "slide_type": "fragment"
    }
   },
   "source": [
    "Refer to the following [link](https://docs.python.org/3/library/functions.html#func-range) for further reference."
   ]
  },
  {
   "cell_type": "code",
   "execution_count": 13,
   "metadata": {
    "slideshow": {
     "slide_type": "subslide"
    }
   },
   "outputs": [
    {
     "name": "stdout",
     "output_type": "stream",
     "text": [
      "1\n",
      "2\n",
      "3\n",
      "4\n",
      "5\n"
     ]
    }
   ],
   "source": [
    "# for i in range(7): # provide the stopping condition\n",
    "#     print('i = ', i)\n",
    "    \n",
    "# for j in range(1, 6+2): # provide the starting and stopping condition\n",
    "#     print('j = ', j)\n",
    "    \n",
    "# for k in range(1, 21, 3): # provide the starting, stopping, and step condition\n",
    "#     print('k = ', k)\n",
    "    \n",
    "for x in range(1, len(my_grocery_list)+1):\n",
    "    print(x)"
   ]
  },
  {
   "cell_type": "markdown",
   "metadata": {
    "slideshow": {
     "slide_type": "subslide"
    }
   },
   "source": [
    "Write a loop that adds all the odd numbers between 1 and 100 together."
   ]
  },
  {
   "cell_type": "markdown",
   "metadata": {
    "slideshow": {
     "slide_type": "fragment"
    }
   },
   "source": [
    "A)  \n",
    "`\n",
    "summation = 0\n",
    "for num in range(100):\n",
    "    summation += num\n",
    "print(summation)\n",
    "`  \n",
    "B)  \n",
    "`\n",
    "summation = 0\n",
    "for num in range(0,101,2):\n",
    "    summation += num\n",
    "print(summation)\n",
    "`  \n",
    "C)  \n",
    "`\n",
    "summation = 0\n",
    "for num in range(1,100,2):\n",
    "    summation += num\n",
    "print(summation)\n",
    "`  \n",
    "D)  \n",
    "None of above"
   ]
  },
  {
   "cell_type": "markdown",
   "metadata": {
    "slideshow": {
     "slide_type": "slide"
    }
   },
   "source": [
    "## Continue and Break"
   ]
  },
  {
   "cell_type": "markdown",
   "metadata": {
    "slideshow": {
     "slide_type": "fragment"
    }
   },
   "source": [
    "<div class=\"alert alert-success\">\n",
    "<code>continue</code> is a special operator to jump ahead to the next iteration of a loop.\n",
    "</div>"
   ]
  },
  {
   "cell_type": "markdown",
   "metadata": {
    "slideshow": {
     "slide_type": "fragment"
    }
   },
   "source": [
    "<div class=\"alert alert-success\">\n",
    "<code>break</code> is a special operator to break out of a loop.\n",
    "</div>"
   ]
  },
  {
   "cell_type": "markdown",
   "metadata": {
    "slideshow": {
     "slide_type": "fragment"
    }
   },
   "source": [
    "<div class=\"alert alert-success\">\n",
    "<code>pass</code> is a null operation used as a placeholder that does nothing when executed.\n",
    "</div>"
   ]
  },
  {
   "cell_type": "code",
   "execution_count": 15,
   "metadata": {
    "slideshow": {
     "slide_type": "subslide"
    }
   },
   "outputs": [
    {
     "name": "stdout",
     "output_type": "stream",
     "text": [
      "13\n"
     ]
    }
   ],
   "source": [
    "counter = 0\n",
    "for i in range(50):\n",
    "    if i%2 == 0:\n",
    "        counter += 1\n",
    "    if i == 25:\n",
    "        break\n",
    "print(counter)"
   ]
  }
 ],
 "metadata": {
  "celltoolbar": "Slideshow",
  "kernelspec": {
   "display_name": "Python 3",
   "language": "python",
   "name": "python3"
  },
  "language_info": {
   "codemirror_mode": {
    "name": "ipython",
    "version": 3
   },
   "file_extension": ".py",
   "mimetype": "text/x-python",
   "name": "python",
   "nbconvert_exporter": "python",
   "pygments_lexer": "ipython3",
   "version": "3.7.2"
  }
 },
 "nbformat": 4,
 "nbformat_minor": 2
}

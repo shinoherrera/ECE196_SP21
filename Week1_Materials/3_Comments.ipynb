{
 "cells": [
  {
   "cell_type": "markdown",
   "metadata": {
    "slideshow": {
     "slide_type": "slide"
    }
   },
   "source": [
    "# Comments\n",
    "* Inline comment with the pound ( `#` ) key, which can also be done with `ctrl + /` or `cmd + /`\n",
    "* Multiple-line comment with triple quotes ( `‘’’` or `“””` )"
   ]
  },
  {
   "cell_type": "code",
   "execution_count": 7,
   "metadata": {
    "slideshow": {
     "slide_type": "fragment"
    }
   },
   "outputs": [
    {
     "name": "stdout",
     "output_type": "stream",
     "text": [
      "10\n"
     ]
    }
   ],
   "source": [
    "# this is an inline comment\n",
    "x = 10\n",
    "\n",
    "'''\n",
    "This is a multiple-line\n",
    "comment\n",
    "'''\n",
    "\n",
    "\"\"\"\n",
    "This is a multiple-line\n",
    "comment\n",
    "\"\"\"\n",
    "print(x)"
   ]
  }
 ],
 "metadata": {
  "celltoolbar": "Slideshow",
  "kernelspec": {
   "display_name": "Python 3",
   "language": "python",
   "name": "python3"
  },
  "language_info": {
   "codemirror_mode": {
    "name": "ipython",
    "version": 3
   },
   "file_extension": ".py",
   "mimetype": "text/x-python",
   "name": "python",
   "nbconvert_exporter": "python",
   "pygments_lexer": "ipython3",
   "version": "3.7.2"
  }
 },
 "nbformat": 4,
 "nbformat_minor": 2
}

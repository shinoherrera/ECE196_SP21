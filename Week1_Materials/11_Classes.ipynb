{
 "cells": [
  {
   "cell_type": "markdown",
   "metadata": {
    "slideshow": {
     "slide_type": "slide"
    }
   },
   "source": [
    "# Classes\n",
    "For a detail explanation of classes in Python, refer to the offical [documentation](https://docs.python.org/3/tutorial/classes.html).\n",
    "For more on Python Object Oriented Programming, check out [this website](https://realpython.com/python3-object-oriented-programming/).\n",
    "\n",
    "**class** ClassName:\n",
    "    \n",
    "    <statement-1>\n",
    "    .\n",
    "    .\n",
    "    .\n",
    "    <statement-N>"
   ]
  },
  {
   "cell_type": "code",
   "execution_count": 2,
   "metadata": {
    "slideshow": {
     "slide_type": "subslide"
    }
   },
   "outputs": [],
   "source": [
    "class MyClass(object):\n",
    "    \n",
    "    def __init__(self, x = 4.5):\n",
    "        self.myVariable = x\n",
    "        print(\"This is the constructor for the class....\")\n",
    "    \n",
    "    def printMe(self, value):  ## function with parameter\n",
    "        print(value)\n",
    "    \n",
    "    def __anotherFunction__(self, value = \"ECE196\"):  ## fuction w/ default argument\n",
    "        print(\"myVariable = \", self.myVariable)\n",
    "        print(value)\n",
    "\n",
    "    def addMeAndMe(self, x, y = 3.1415):  ## function with and w/0 default argument\n",
    "        print(x + y)\n",
    "\n",
    "    def testFunction(self, x, y = 3.14, z = 5.6):  ## function w/ multiple default argument\n",
    "        print(x+y+z)"
   ]
  },
  {
   "cell_type": "code",
   "execution_count": 9,
   "metadata": {
    "slideshow": {
     "slide_type": "fragment"
    }
   },
   "outputs": [
    {
     "name": "stdout",
     "output_type": "stream",
     "text": [
      "This is the constructor for the class....\n",
      "This is the constructor for the class....\n",
      "10\n"
     ]
    }
   ],
   "source": [
    "obj = MyClass()\n",
    "# obj.printMe(\"ECE196\")\n",
    "# obj.__anotherFunction__()\n",
    "# print(obj.myVariable)\n",
    "\n",
    "obj2 = MyClass(10)\n",
    "print(obj2.myVariable)"
   ]
  },
  {
   "cell_type": "markdown",
   "metadata": {
    "slideshow": {
     "slide_type": "slide"
    }
   },
   "source": [
    "### Object Oriented Programming 4 Paradigms\n",
    "Read about them [here](https://www.freecodecamp.org/news/four-pillars-of-object-oriented-programming/). (Note that the examples given are not in Python, but gives a good idea of each concept)\n",
    "* Abstraction\n",
    "* Encapsulation\n",
    "* Inheritance\n",
    "* Polymorphism"
   ]
  },
  {
   "cell_type": "code",
   "execution_count": 11,
   "metadata": {
    "slideshow": {
     "slide_type": "slide"
    }
   },
   "outputs": [],
   "source": [
    "class ECE196(object):\n",
    "    def __init__(self, name, identification, level):\n",
    "        self.first_name = name.split(' ')[0]\n",
    "        self.last_name = name.split(' ')[1]\n",
    "        self.PID = identification\n",
    "        self.standing = level\n",
    "        \n",
    "    def post_on_piazza(self, question):\n",
    "        print(\"{} asked: {}\".format(self.first_name, question))\n",
    "        \n",
    "class Tutor(ECE196):\n",
    "    def teach(self, topic):\n",
    "        print(\"{} is teaching {}\".format(self.first_name, topic))\n",
    "        \n",
    "class TA(Tutor):\n",
    "    def grade(self, student, PID, score):\n",
    "        print(\"{}---{}---{}---graded by {}\".format(student, PID, score, self.first_name))\n",
    "    \n",
    "    def teach(self):\n",
    "        print(\"{} is also teaching\".format(self.first_name))"
   ]
  },
  {
   "cell_type": "code",
   "execution_count": 12,
   "metadata": {},
   "outputs": [],
   "source": [
    "me = Tutor('Po Huang', 'A12345', 'Graduate')"
   ]
  },
  {
   "cell_type": "code",
   "execution_count": 15,
   "metadata": {},
   "outputs": [
    {
     "name": "stdout",
     "output_type": "stream",
     "text": [
      "Po asked How is everyone doing?\n",
      "Po is teaching Python\n",
      "Po\n"
     ]
    }
   ],
   "source": [
    "me.post_on_piazza('How is everyone doing?')\n",
    "me.teach('Python')\n",
    "print(me.first_name)"
   ]
  },
  {
   "cell_type": "code",
   "execution_count": 16,
   "metadata": {},
   "outputs": [
    {
     "name": "stdout",
     "output_type": "stream",
     "text": [
      "John asked What is Object Oriented Programming?\n"
     ]
    }
   ],
   "source": [
    "student = ECE196('John Doe', 'A11111', 'Undergraduate')\n",
    "student.post_on_piazza('What is Object Oriented Programming?')"
   ]
  },
  {
   "cell_type": "code",
   "execution_count": 17,
   "metadata": {},
   "outputs": [
    {
     "ename": "AttributeError",
     "evalue": "'ECE196' object has no attribute 'teach'",
     "output_type": "error",
     "traceback": [
      "\u001b[0;31m---------------------------------------------------------------------------\u001b[0m",
      "\u001b[0;31mAttributeError\u001b[0m                            Traceback (most recent call last)",
      "\u001b[0;32m<ipython-input-17-3815ae3beefb>\u001b[0m in \u001b[0;36m<module>\u001b[0;34m\u001b[0m\n\u001b[0;32m----> 1\u001b[0;31m \u001b[0mstudent\u001b[0m\u001b[0;34m.\u001b[0m\u001b[0mteach\u001b[0m\u001b[0;34m(\u001b[0m\u001b[0;34m'OOP'\u001b[0m\u001b[0;34m)\u001b[0m\u001b[0;34m\u001b[0m\u001b[0;34m\u001b[0m\u001b[0m\n\u001b[0m",
      "\u001b[0;31mAttributeError\u001b[0m: 'ECE196' object has no attribute 'teach'"
     ]
    }
   ],
   "source": [
    "student.teach('OOP')"
   ]
  },
  {
   "cell_type": "code",
   "execution_count": 19,
   "metadata": {},
   "outputs": [
    {
     "name": "stdout",
     "output_type": "stream",
     "text": [
      "John---A11111---96---graded by Phuong\n"
     ]
    }
   ],
   "source": [
    "boss = TA('Phuong Truong', 'A54321', 'PhD')\n",
    "boss.grade(student.first_name, student.PID, 96)"
   ]
  },
  {
   "cell_type": "code",
   "execution_count": 20,
   "metadata": {},
   "outputs": [
    {
     "name": "stdout",
     "output_type": "stream",
     "text": [
      "Phuong is also teaching\n"
     ]
    }
   ],
   "source": [
    "boss.teach()"
   ]
  },
  {
   "cell_type": "code",
   "execution_count": null,
   "metadata": {},
   "outputs": [],
   "source": []
  }
 ],
 "metadata": {
  "celltoolbar": "Slideshow",
  "kernelspec": {
   "display_name": "Python 3",
   "language": "python",
   "name": "python3"
  },
  "language_info": {
   "codemirror_mode": {
    "name": "ipython",
    "version": 3
   },
   "file_extension": ".py",
   "mimetype": "text/x-python",
   "name": "python",
   "nbconvert_exporter": "python",
   "pygments_lexer": "ipython3",
   "version": "3.7.2"
  }
 },
 "nbformat": 4,
 "nbformat_minor": 2
}

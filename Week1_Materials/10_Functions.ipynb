{
 "cells": [
  {
   "cell_type": "markdown",
   "metadata": {
    "slideshow": {
     "slide_type": "slide"
    }
   },
   "source": [
    "# Functions\n",
    "Function inputs come in four basic types:\n",
    "\n",
    "1. Required\n",
    "2. Default (optional)\n",
    "3. Keyword\n",
    "4. Variable length\n",
    "\n",
    "Notice that required arguments must always come before optional arguments.\n",
    "\n",
    "You can call functions using the keyword arguments or without them. Using keyword arguments allows you to switch the order of input parameters without affecting the result (i.e. you don't need to remember the order of arguments for each function)."
   ]
  },
  {
   "cell_type": "code",
   "execution_count": 3,
   "metadata": {
    "slideshow": {
     "slide_type": "slide"
    }
   },
   "outputs": [],
   "source": [
    "def printMe(value):                     # function with parameter\n",
    "    print(value)\n",
    "    \n",
    "def anotherFunction(value = \"ECE196\"):  # fuction w/ default argument\n",
    "    print(value)\n",
    "    \n",
    "def addMeAndMe(x, y = 3.1415):          # function with and w/0 default argument\n",
    "    print(x + y)\n",
    "    \n",
    "def testFunction(x, y = 3.14, z = 5.6): # function w/ multiple default argument\n",
    "    print(x+y+z)\n",
    "    \n",
    "def undefined():\n",
    "    pass"
   ]
  },
  {
   "cell_type": "code",
   "execution_count": 13,
   "metadata": {
    "slideshow": {
     "slide_type": "fragment"
    }
   },
   "outputs": [
    {
     "name": "stdout",
     "output_type": "stream",
     "text": [
      "UCSD\n",
      "6.141500000000001\n",
      "6\n",
      "9\n"
     ]
    }
   ],
   "source": [
    "# printMe(5)\n",
    "# printMe('ECE196')\n",
    "\n",
    "anotherFunction('UCSD')\n",
    "addMeAndMe(3)\n",
    "addMeAndMe(3, 3)\n",
    "testFunction(4, z = 2, y = 3)\n",
    "undefined()"
   ]
  },
  {
   "cell_type": "code",
   "execution_count": 14,
   "metadata": {
    "slideshow": {
     "slide_type": "slide"
    }
   },
   "outputs": [],
   "source": [
    "def my_function(required_argument, optional_argument=\"default value\", *extra_args):\n",
    "    print(required_argument)\n",
    "    print(optional_argument)\n",
    "    if extra_args:\n",
    "        print(extra_args)\n",
    "    for extra_arg in extra_args:\n",
    "        print(extra_arg)\n",
    "        if extra_arg == 5:\n",
    "            return \"got the number \"+str(extra_arg)    # this is just to demo return statements"
   ]
  },
  {
   "cell_type": "code",
   "execution_count": 28,
   "metadata": {
    "slideshow": {
     "slide_type": "fragment"
    }
   },
   "outputs": [
    {
     "name": "stdout",
     "output_type": "stream",
     "text": [
      "test\n",
      "okay\n"
     ]
    }
   ],
   "source": [
    "# my_function(\"test\", \"okay\", \"extra 1\", \"extra 2\")\n",
    "my_function(optional_argument=\"okay\", required_argument=\"test\")"
   ]
  },
  {
   "cell_type": "markdown",
   "metadata": {
    "slideshow": {
     "slide_type": "fragment"
    }
   },
   "source": [
    "Note that the following ordering does not work."
   ]
  },
  {
   "cell_type": "code",
   "execution_count": 18,
   "metadata": {
    "slideshow": {
     "slide_type": "fragment"
    }
   },
   "outputs": [
    {
     "ename": "SyntaxError",
     "evalue": "positional argument follows keyword argument (<ipython-input-18-fdab921ecd29>, line 1)",
     "output_type": "error",
     "traceback": [
      "\u001b[0;36m  File \u001b[0;32m\"<ipython-input-18-fdab921ecd29>\"\u001b[0;36m, line \u001b[0;32m1\u001b[0m\n\u001b[0;31m    my_function(required_argument=\"test\", \"okay\")\u001b[0m\n\u001b[0m                                         ^\u001b[0m\n\u001b[0;31mSyntaxError\u001b[0m\u001b[0;31m:\u001b[0m positional argument follows keyword argument\n"
     ]
    }
   ],
   "source": [
    "my_function(required_argument=\"test\", \"okay\")"
   ]
  },
  {
   "cell_type": "markdown",
   "metadata": {
    "slideshow": {
     "slide_type": "slide"
    }
   },
   "source": [
    "### Variable scope\n",
    "Unless you use the keyword global, variables are by default local. You can access global variables from inside an enclosing scope but not modify them, unless you explicitly use the `global` keyword before it."
   ]
  },
  {
   "cell_type": "code",
   "execution_count": 19,
   "metadata": {
    "slideshow": {
     "slide_type": "slide"
    }
   },
   "outputs": [
    {
     "name": "stdout",
     "output_type": "stream",
     "text": [
      "123\n",
      "42\n",
      "Variable does not exist!\n"
     ]
    }
   ],
   "source": [
    "global_var1 = 123\n",
    "global_var2 = 321\n",
    "\n",
    "def function():\n",
    "    local_var = 567\n",
    "\n",
    "    # only accessing global_var1\n",
    "    print(global_var1)\n",
    "\n",
    "    # accessing and modifying global_var2\n",
    "    global global_var2\n",
    "    global_var2 = 42\n",
    "    print(global_var2)\n",
    "    return\n",
    "\n",
    "function()\n",
    "\n",
    "try:\n",
    "    print(local_var)\n",
    "except NameError:\n",
    "    print(\"Variable does not exist!\")"
   ]
  },
  {
   "cell_type": "code",
   "execution_count": null,
   "metadata": {},
   "outputs": [],
   "source": []
  }
 ],
 "metadata": {
  "celltoolbar": "Slideshow",
  "kernelspec": {
   "display_name": "Python 3",
   "language": "python",
   "name": "python3"
  },
  "language_info": {
   "codemirror_mode": {
    "name": "ipython",
    "version": 3
   },
   "file_extension": ".py",
   "mimetype": "text/x-python",
   "name": "python",
   "nbconvert_exporter": "python",
   "pygments_lexer": "ipython3",
   "version": "3.7.2"
  }
 },
 "nbformat": 4,
 "nbformat_minor": 2
}

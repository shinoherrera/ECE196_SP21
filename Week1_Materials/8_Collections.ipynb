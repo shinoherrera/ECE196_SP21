{
 "cells": [
  {
   "cell_type": "markdown",
   "metadata": {
    "slideshow": {
     "slide_type": "slide"
    }
   },
   "source": [
    "# Collections\n",
    "\n",
    "* List\n",
    "* Tuple\n",
    "* Dictionary"
   ]
  },
  {
   "cell_type": "markdown",
   "metadata": {
    "slideshow": {
     "slide_type": "slide"
    }
   },
   "source": [
    "## List\n",
    "Refer to the following [link](https://docs.python.org/3/tutorial/datastructures.html) for all the available function."
   ]
  },
  {
   "cell_type": "markdown",
   "metadata": {
    "slideshow": {
     "slide_type": "fragment"
    }
   },
   "source": [
    "<div class=\"alert alert-success\">\n",
    "A <b>list</b> is a mutable collection of ordered items, that can be of mixed type. Lists are created using square brackets.\n",
    "</div>"
   ]
  },
  {
   "cell_type": "code",
   "execution_count": 11,
   "metadata": {
    "slideshow": {
     "slide_type": "subslide"
    }
   },
   "outputs": [
    {
     "name": "stdout",
     "output_type": "stream",
     "text": [
      "['apples', 'bananas', 'milk', 'potatoes', 2.5, 'eggs']\n",
      "['apples', 'bananas', 'milk', 'potatoes', 'eggs']\n",
      "['apples', 'bananas', 'cheese', 'milk', 'potatoes', 'eggs']\n"
     ]
    }
   ],
   "source": [
    "my_grocery_list = ['apples', 'bananas', 'milk', 5, 2.5] # initialized using brackets\n",
    "# print(my_grocery_list)\n",
    "# print(my_grocery_list[1])\n",
    "my_grocery_list[3] = 'potatoes' # modifying element\n",
    "# print(my_grocery_list)\n",
    "# print(len(my_grocery_list))\n",
    "\n",
    "my_grocery_list.append('eggs') # appending element\n",
    "print(my_grocery_list)\n",
    "\n",
    "my_grocery_list.pop(4) # removing element\n",
    "print(my_grocery_list)\n",
    "\n",
    "my_grocery_list.insert(2, 'cheese') # insert at a specified location\n",
    "print(my_grocery_list)"
   ]
  },
  {
   "cell_type": "markdown",
   "metadata": {
    "slideshow": {
     "slide_type": "subslide"
    }
   },
   "source": [
    "**Indexing and slicing**\n",
    "* Negative indices index backwards through a collection\n",
    "* A sequence of indices (called a slice) can be accessed using `start:stop`\n",
    "* In this contstruction, `start` is included then every element until `stop`, not including `stop` itself\n",
    "* To skip values in a sequence use `start:stop:step`"
   ]
  },
  {
   "cell_type": "code",
   "execution_count": 14,
   "metadata": {
    "slideshow": {
     "slide_type": "fragment"
    }
   },
   "outputs": [
    {
     "name": "stdout",
     "output_type": "stream",
     "text": [
      "['apples', 'bananas', 'cheese', 'milk', 'potatoes', 'eggs']\n",
      "['bananas', 'cheese', 'milk', 'potatoes']\n",
      "['apples', 'cheese', 'potatoes']\n"
     ]
    }
   ],
   "source": [
    "print(my_grocery_list)\n",
    "print(my_grocery_list[1:5])\n",
    "print(my_grocery_list[::2])"
   ]
  },
  {
   "cell_type": "markdown",
   "metadata": {
    "slideshow": {
     "slide_type": "slide"
    }
   },
   "source": [
    "## Tuples\n",
    "Tuples works similar to list, except tuples are immutable. Refer to the following [link](https://www.tutorialspoint.com/python/python_tuples.htm) for all the available function. "
   ]
  },
  {
   "cell_type": "markdown",
   "metadata": {
    "slideshow": {
     "slide_type": "fragment"
    }
   },
   "source": [
    "<div class=\"alert alert-success\">\n",
    "A <b>tuple</b> is an <i>immutable</i> collection of ordered items, that can be of mixed type. Tuples are created using parentheses.\n",
    "</div>"
   ]
  },
  {
   "cell_type": "code",
   "execution_count": 20,
   "metadata": {
    "slideshow": {
     "slide_type": "subslide"
    }
   },
   "outputs": [
    {
     "name": "stdout",
     "output_type": "stream",
     "text": [
      "bananas\n",
      "<class 'tuple'>\n",
      "<class 'list'>\n"
     ]
    },
    {
     "ename": "AttributeError",
     "evalue": "'tuple' object has no attribute 'append'",
     "output_type": "error",
     "traceback": [
      "\u001b[0;31m---------------------------------------------------------------------------\u001b[0m",
      "\u001b[0;31mAttributeError\u001b[0m                            Traceback (most recent call last)",
      "\u001b[0;32m<ipython-input-20-bb157d16f411>\u001b[0m in \u001b[0;36m<module>\u001b[0;34m\u001b[0m\n\u001b[1;32m      5\u001b[0m \u001b[0mprint\u001b[0m\u001b[0;34m(\u001b[0m\u001b[0mtype\u001b[0m\u001b[0;34m(\u001b[0m\u001b[0mtuple_to_list\u001b[0m\u001b[0;34m)\u001b[0m\u001b[0;34m)\u001b[0m\u001b[0;34m\u001b[0m\u001b[0;34m\u001b[0m\u001b[0m\n\u001b[1;32m      6\u001b[0m \u001b[0;31m# my_grocery_list[0] = 'kiwi'\u001b[0m\u001b[0;34m\u001b[0m\u001b[0;34m\u001b[0m\u001b[0;34m\u001b[0m\u001b[0m\n\u001b[0;32m----> 7\u001b[0;31m \u001b[0mmy_grocery_list\u001b[0m\u001b[0;34m.\u001b[0m\u001b[0mappend\u001b[0m\u001b[0;34m(\u001b[0m\u001b[0;34m'strawberries'\u001b[0m\u001b[0;34m)\u001b[0m\u001b[0;34m\u001b[0m\u001b[0;34m\u001b[0m\u001b[0m\n\u001b[0m",
      "\u001b[0;31mAttributeError\u001b[0m: 'tuple' object has no attribute 'append'"
     ]
    }
   ],
   "source": [
    "my_grocery_list = ('apples', 'bananas', 'eggs') # initialized via parathesis\n",
    "print(my_grocery_list[1])\n",
    "print(type(my_grocery_list))\n",
    "tuple_to_list = list(my_grocery_list)\n",
    "print(type(tuple_to_list))\n",
    "# my_grocery_list[0] = 'kiwi' # throw an error"
   ]
  },
  {
   "cell_type": "code",
   "execution_count": null,
   "metadata": {
    "slideshow": {
     "slide_type": "subslide"
    }
   },
   "outputs": [],
   "source": []
  },
  {
   "cell_type": "markdown",
   "metadata": {
    "slideshow": {
     "slide_type": "subslide"
    }
   },
   "source": [
    "So **why** are there mutable and immutable objects in Python? Here is the breakdown:\n",
    "\n",
    "Mutable:\n",
    "\n",
    "  1. Modify: fast\n",
    "  2. Read: slow\n",
    "\n",
    "Immutable:\n",
    "\n",
    "  1. Modify: slow (need to make a copy to edit)\n",
    "  2. Read: very fast"
   ]
  },
  {
   "cell_type": "markdown",
   "metadata": {
    "slideshow": {
     "slide_type": "slide"
    }
   },
   "source": [
    "**Pay attention to Aliases!**"
   ]
  },
  {
   "cell_type": "code",
   "execution_count": 25,
   "metadata": {
    "slideshow": {
     "slide_type": "subslide"
    }
   },
   "outputs": [
    {
     "name": "stdout",
     "output_type": "stream",
     "text": [
      "[1, 10, 3, 4]\n",
      "[1, 10, 3, 4]\n",
      "[1, 10, 3, 5]\n",
      "[1, 10, 3, 4]\n"
     ]
    }
   ],
   "source": [
    "my_list = [1, 2, 3, 4]\n",
    "alias_list = my_list\n",
    "# lists are mutable\n",
    "\n",
    "# change the second values of my_list\n",
    "my_list[1] = 10\n",
    "print(my_list)\n",
    "print(alias_list)\n",
    "\n",
    "copied_list = my_list.copy()\n",
    "my_list[-1] = 5\n",
    "print(my_list)\n",
    "print(copied_list)"
   ]
  },
  {
   "cell_type": "code",
   "execution_count": null,
   "metadata": {
    "slideshow": {
     "slide_type": "fragment"
    }
   },
   "outputs": [],
   "source": []
  },
  {
   "cell_type": "markdown",
   "metadata": {
    "slideshow": {
     "slide_type": "slide"
    }
   },
   "source": [
    "## Strings are also collection of characters!"
   ]
  },
  {
   "cell_type": "code",
   "execution_count": 34,
   "metadata": {
    "slideshow": {
     "slide_type": "fragment"
    }
   },
   "outputs": [
    {
     "name": "stdout",
     "output_type": "stream",
     "text": [
      "I\n",
      "True\n",
      "5\n",
      "CO\n"
     ]
    }
   ],
   "source": [
    "my_str = 'COVID'\n",
    "print(my_str[3])\n",
    "print('V' in my_str)\n",
    "print(len(my_str))\n",
    "print(my_str[0:2])\n",
    "my_str = '19'"
   ]
  },
  {
   "cell_type": "markdown",
   "metadata": {
    "slideshow": {
     "slide_type": "slide"
    }
   },
   "source": [
    "# Dictionary\n",
    "<div class=\"alert alert-success\">\n",
    "A dictionary is mutable collection of items, that can be of mixed-type, that are stored as key-value pairs.\n",
    "</div>"
   ]
  },
  {
   "cell_type": "markdown",
   "metadata": {
    "slideshow": {
     "slide_type": "fragment"
    }
   },
   "source": [
    "Dictionaries are comma separated key-value pairs. Refer to the following [link](https://www.w3schools.com/python/python_dictionaries.asp) for further reference.\n",
    "- Only one value per key. No duplicate keys allowed. \n",
    "    - If duplicate keys specified during assignment, the last assignment wins.\n",
    "   - **keys** must be of an immutable type (string, tuple, integer, float, etc)\n",
    "- Note: **values** can be of any type\n"
   ]
  },
  {
   "cell_type": "code",
   "execution_count": 38,
   "metadata": {
    "slideshow": {
     "slide_type": "slide"
    }
   },
   "outputs": [
    {
     "name": "stdout",
     "output_type": "stream",
     "text": [
      "['pushups', 'situps', 'squats']\n",
      "{'Mon': ['pushups', 'situps', 'squats', 'rest'], 'Tue': '3 mile run', 'Wed': 'rest', 'Fri': 3.14}\n",
      "{'Mon': ['pushups', 'situps', 'squats', 'rest'], 'Tue': '3 mile run', 'Wed': 'rest', 'Fri': 3.14, 'Thur': '3 mile run'}\n"
     ]
    }
   ],
   "source": [
    "workout = {\"Mon\": [\"pushups\", 'situps', 'squats'],\n",
    "          \"Tue\": \"3 mile run\",\n",
    "          \"Wed\": \"rest\",\n",
    "          \"Fri\": 3.14}\n",
    "print(workout[\"Mon\"]) # access items with key\n",
    "workout[\"Mon\"].append('rest')\n",
    "print(workout)\n",
    "\n",
    "workout[\"Thur\"] = \"3 mile run\"\n",
    "print(workout)"
   ]
  }
 ],
 "metadata": {
  "celltoolbar": "Slideshow",
  "kernelspec": {
   "display_name": "Python 3",
   "language": "python",
   "name": "python3"
  },
  "language_info": {
   "codemirror_mode": {
    "name": "ipython",
    "version": 3
   },
   "file_extension": ".py",
   "mimetype": "text/x-python",
   "name": "python",
   "nbconvert_exporter": "python",
   "pygments_lexer": "ipython3",
   "version": "3.7.2"
  }
 },
 "nbformat": 4,
 "nbformat_minor": 2
}
